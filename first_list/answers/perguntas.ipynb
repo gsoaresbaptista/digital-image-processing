{
 "cells": [
  {
   "cell_type": "markdown",
   "metadata": {},
   "source": [
    "## Perguntas"
   ]
  },
  {
   "cell_type": "markdown",
   "metadata": {},
   "source": [
    "### 1 - Como você explicaria frequência espacial em uma imagem?"
   ]
  },
  {
   "cell_type": "markdown",
   "metadata": {},
   "source": [
    "Frequência espacial determina a quantidade de vezes que uma componente senoidal se repete em uma determinada unidade de distância, ou seja, ocorre em estruturas periódicas. Geralmente expressa por ciclos por milímitro em processamento digital de imagens, ela determina o nível de clareza que a imagem tem.\n",
    "Nesse contexto, indica a velocidade de modificação de uma luminosidade (intensidade) em uma direção da imagem."
   ]
  },
  {
   "cell_type": "markdown",
   "metadata": {},
   "source": [
    "### 2 - Qual seria o resultado de uma imagem filtrada no domínio do espaço por um filtro de média aritmética simples de mesmas dimensões da imagem (considere que não seja feita preenchimentos (padding) na imagem)?"
   ]
  },
  {
   "cell_type": "markdown",
   "metadata": {},
   "source": [
    "Seria uma imagem com dimensões 1x1, ou seja, um píxel, contendo a média dos pixeis da imagem original.\n",
    "Portanto, se tivermos a seguinte imagem representada pela matriz $$A =\n",
    "\\begin{bmatrix}\n",
    "1 & 2 & 3\\\\\n",
    "2 & 2 & 1\\\\\n",
    "4 & 2 & 1\n",
    "\\end{bmatrix}$$\n",
    "teríamos a operação\n",
    "\n",
    "$$\n",
    "\n",
    "\\frac{\\text{SUM}(A)}{\\text{QTDPIXELS}(A)}\n",
    "\n",
    "$$\n",
    "\n",
    " que resultaria na imagem:\n",
    "\\begin{bmatrix}\n",
    "2\n",
    "\\end{bmatrix}"
   ]
  },
  {
   "cell_type": "markdown",
   "metadata": {},
   "source": [
    "### 3 - Explique os procedimentos necessários para fazer a filtragem no domínio da frequência de uma imagem 512x512 por um filtro de dimensões 3x3, ambos estão no domínio espacial."
   ]
  },
  {
   "cell_type": "markdown",
   "metadata": {},
   "source": [
    "1- Tendo uma imagem $f(x, y)$ com dimensões 512 x 512, ou seja, M = N = 512, primeiro precisamos aplicar o padding, expandir a imagem, obtendo-se $P = 2M-1$ e $Q = 2M-1$ que serão as novas dimensões da imagem com o padding. Com a imagem de novas dimensões, formamos a imagem que será utilizada colocando o número de zeros necessários na imagem original.\n",
    "\n",
    "2 - Como próximo passo, é preciso centralizar a transformada multiplicando $f_p(x, y)$ por $(-1)^{x+y}$. \n",
    "\n",
    "3 - Com isso, podemos computar a DFT da imagem deslocada, obtendo-se $F(u,v)$.\n",
    "\n",
    "4 - O próximo passo é gerar o filtro de tamanho correto para ter uma correspondência com a imagem que será filtrada e assim evitar o erro de wraparound. Para isso, geramos uma função filtro real e simétrica $H(u, v)$ de tamanho P x Q (os mesmos P e Q calculados anteriormente) e com centro em ($\\frac{P}{2}, \\frac{Q}{2}$).\n",
    "\n",
    "5 - Continuando, multiplicamos nossa função de filtro pela imagem deslocada, ou seja, $G(u, v) = H(u, v)F(u, v)$.\n",
    "\n",
    "Com $G(u, v)$, podemos fazer a transformada inversa e trazer a imagem para o dominío espacial novamente. Assim, realizamos a seguinte operação $g_p(x, y) = Re(\\mathcal{F})continua$, podemos ver que deslocamos a imagem novamente e pegamos só a parte real da transformada uma vez que a imaginária não nos interessa.\n",
    "\n",
    "Para finalizar, obtemos nossa imagem resultado extraindo a região M x N do segundo quadrante (superior esquerdo) de $g_p(x, y)$, ou seja, removemos o pad para podermos ter nossa imagem de 512 por 512 novamente."
   ]
  },
  {
   "cell_type": "markdown",
   "metadata": {},
   "source": [
    "### 4 - O que é o aliasing e por que ele acontece? Como é possível reduzir os seus efeitos?"
   ]
  },
  {
   "cell_type": "markdown",
   "metadata": {},
   "source": [
    "Aliasing é um efeito que surge no processo de amostragem e faz com que duas amostras do sinal sejam amostrados com interferência, assim ambos sinais se misturam após o processo de amostragem, introduzindo novas componentes no sinal discreto.\n",
    "\n",
    "Esse efeito ocorre quando o teorema de Nyquist não é garantindo, isto é, um sinal analógico, limitado em banda, que foi amostrado, pode ser perfeitamente recuperado a partir de uma sequência infinita de amostras, se a taxa de amostragem for maior ou igual à $2*F_m$ amostras por segundo, em que $F_m$ é a maior frequência do sinal original. Caso a amostragem serja menor que esse valor iremos introduzir aliasing no sinal.\n",
    "\n",
    "No caso de processamento digital de imagem temos o aliasing espacial.\n",
    "Um processo comumente utilizado para evitar o aliasing é utilizar filtros passa-baixa para que possamos diminuir o o intervalo de frequência do sinal amostrado, entretanto, essa abordagem apenas consegue mitigar os efeitos, uma vez que o sinal apresenta esse efeito não seremos mais capazes de obter o sinal original.  "
   ]
  },
  {
   "cell_type": "markdown",
   "metadata": {},
   "source": [
    "### 5 - Como é possível reconstruir um sinal contínuo a partir de um sinal amostrado? "
   ]
  },
  {
   "cell_type": "markdown",
   "metadata": {},
   "source": [
    "Para reconstruir de maneira única um sinal de tempo contínuo a partir de suas amostras, deve haver uma correspondência única entre as FFTs do sinal de tempo contínuo e o sinal amostrado. Estas FFTs se relacionam de forma única se o processo de amostragem não introduzir aliasing.\n",
    "Para isso precisamos satisfazer o teorema de Nyquist como já foi discutido acima.\n",
    "\n",
    "Isto é, com um sinal amostrado podemos calcular a FFT gerando um sinal periódico no domínio da frequência, permitindo-nos isolar uma cópia da FFT da função original contínua para fazer a transformada inversa e encontrar o sinal contínuo original no domínio do tempo."
   ]
  },
  {
   "cell_type": "markdown",
   "metadata": {},
   "source": [
    "### 6 - Explique o erro de wraparound e como evitá-lo."
   ]
  },
  {
   "cell_type": "markdown",
   "metadata": {},
   "source": [
    "Sabemos que na convolução uma máscara é passada sobre a imagem e temos a soma dois valores da máscara multiplicados com suas correspondências na imagem, tendo o pixel central da máscara como nossa referência.\n",
    "\n",
    "Entretanto, dememos nos atentar que a convolução no domínio da frequência está sucetível a periocidade da FFT da imagem, isto é, nas bordas da imagem a convolução irá pegar parte da imagem original e uma parte do canto oposto da imagem (devido à cópia da fft), gerando-se o efeito de wraparound.\n",
    "\n",
    "Um exemplo claro é quando a convolução chega na borda superior da imagem e o wraparound insere valores do canto inferior, podendo-se gerar transições abruptadas de intensidade ou até mesmo artefatos.\n",
    "\n",
    "Para evitarmos esse efeito podemos simplesmente adicionar um padding, de forma que a convolução não irá sobrepor diferentes cópias da imagem original, para isso fazemos com que uma imagem de tamanho $(M, N)$ tenha um tamanho $(2 \\times M-1, 2 \\times N-1)$, obtendo-se uma cópia original no canto superior esquerdo e os outros cantos serão preenchidos com zero. Dessa forma, ao terminarmos a convolução devemos recortar a parte introduzida."
   ]
  }
 ],
 "metadata": {
  "interpreter": {
   "hash": "916dbcbb3f70747c44a77c7bcd40155683ae19c65e1c03b4aa3499c5328201f1"
  },
  "kernelspec": {
   "display_name": "Python 3.8.10 64-bit",
   "language": "python",
   "name": "python3"
  },
  "language_info": {
   "name": "python",
   "version": "3.8.10"
  },
  "orig_nbformat": 4
 },
 "nbformat": 4,
 "nbformat_minor": 2
}
